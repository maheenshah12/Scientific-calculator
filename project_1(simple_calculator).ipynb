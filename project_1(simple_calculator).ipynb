{
  "cells": [
    {
      "cell_type": "markdown",
      "metadata": {
        "id": "view-in-github",
        "colab_type": "text"
      },
      "source": [
        "<a href=\"https://colab.research.google.com/github/maheenshah12/Scientific-calculator/blob/main/project_1(simple_calculator).ipynb\" target=\"_parent\"><img src=\"https://colab.research.google.com/assets/colab-badge.svg\" alt=\"Open In Colab\"/></a>"
      ]
    },
    {
      "cell_type": "code",
      "execution_count": null,
      "metadata": {
        "colab": {
          "background_save": true,
          "base_uri": "https://localhost:8080/"
        },
        "id": "zSgXspxq4YtI",
        "outputId": "b2fd8b93-26bc-4a41-859c-d47c4268c047"
      },
      "outputs": [
        {
          "output_type": "stream",
          "name": "stdout",
          "text": [
            "\n",
            "Select operation:\n",
            "1. Add\n",
            "2. Subtract\n",
            "3. Multiply\n",
            "4. Divide\n",
            "5. Power (x^y)\n",
            "6. Square root\n",
            "7. Sine (sin(x))\n",
            "8. Cosine (cos(x))\n",
            "9. Tangent (tan(x))\n",
            "10. Logarithm (log(x))\n",
            "11. Quit (Exit the calculator)\n"
          ]
        }
      ],
      "source": [
        "import math\n",
        "\n",
        "# Scientific calculator function\n",
        "def scientific_calculator():\n",
        "    while True:\n",
        "        print(\"\\nSelect operation:\")\n",
        "        print(\"1. Add\")\n",
        "        print(\"2. Subtract\")\n",
        "        print(\"3. Multiply\")\n",
        "        print(\"4. Divide\")\n",
        "        print(\"5. Power (x^y)\")\n",
        "        print(\"6. Square root\")\n",
        "        print(\"7. Sine (sin(x))\")\n",
        "        print(\"8. Cosine (cos(x))\")\n",
        "        print(\"9. Tangent (tan(x))\")\n",
        "        print(\"10. Logarithm (log(x))\")\n",
        "        print(\"11. Quit (Exit the calculator)\")  # Inform the user about option 11\n",
        "\n",
        "        # Take input from the user\n",
        "        choice = input(\"Enter choice (1/2/3/4/5/6/7/8/9/10/11): \")\n",
        "\n",
        "        # Perform calculations based on user's choice\n",
        "        if choice == '11':\n",
        "            print(\"Exiting the calculator. Goodbye!\")\n",
        "            break  # Exit the loop\n",
        "\n",
        "        elif choice in ['1', '2', '3', '4', '5']:\n",
        "            num1 = float(input(\"Enter first number: \"))\n",
        "            num2 = float(input(\"Enter second number: \"))\n",
        "\n",
        "            if choice == '1':\n",
        "                print(f\"{num1} + {num2} = {num1 + num2}\")\n",
        "            elif choice == '2':\n",
        "                print(f\"{num1} - {num2} = {num1 - num2}\")\n",
        "            elif choice == '3':\n",
        "                print(f\"{num1} * {num2} = {num1 * num2}\")\n",
        "            elif choice == '4':\n",
        "                # Check for division by zero\n",
        "                if num2 == 0:\n",
        "                    print(\"Error! Division by zero.\")\n",
        "                else:\n",
        "                    print(f\"{num1} / {num2} = {num1 / num2}\")\n",
        "            elif choice == '5':\n",
        "                print(f\"{num1} ^ {num2} = {math.pow(num1, num2)}\")\n",
        "\n",
        "        elif choice == '6':\n",
        "            num = float(input(\"Enter number: \"))\n",
        "            if num < 0:\n",
        "                print(\"Error! Square root of negative number is not defined.\")\n",
        "            else:\n",
        "                print(f\"Square root of {num} = {math.sqrt(num)}\")\n",
        "\n",
        "        elif choice == '7':\n",
        "            num = float(input(\"Enter angle in degrees: \"))\n",
        "            print(f\"sin({num}) = {math.sin(math.radians(num))}\")\n",
        "\n",
        "        elif choice == '8':\n",
        "            num = float(input(\"Enter angle in degrees: \"))\n",
        "            print(f\"cos({num}) = {math.cos(math.radians(num))}\")\n",
        "\n",
        "        elif choice == '9':\n",
        "            num = float(input(\"Enter angle in degrees: \"))\n",
        "            print(f\"tan({num}) = {math.tan(math.radians(num))}\")\n",
        "\n",
        "        elif choice == '10':\n",
        "            num = float(input(\"Enter number: \"))\n",
        "            if num <= 0:\n",
        "                print(\"Error! Logarithm of non-positive numbers is not defined.\")\n",
        "            else:\n",
        "                print(f\"log({num}) = {math.log(num)}\")\n",
        "\n",
        "        else:\n",
        "            print(\"Invalid input. Please try again.\")\n",
        "\n",
        "# Call the scientific calculator function\n",
        "scientific_calculator()\n"
      ]
    }
  ],
  "metadata": {
    "colab": {
      "provenance": [],
      "authorship_tag": "ABX9TyN6Xtsq6OsrxJtNbmvPURXk",
      "include_colab_link": true
    },
    "kernelspec": {
      "display_name": "Python 3",
      "name": "python3"
    },
    "language_info": {
      "name": "python"
    }
  },
  "nbformat": 4,
  "nbformat_minor": 0
}